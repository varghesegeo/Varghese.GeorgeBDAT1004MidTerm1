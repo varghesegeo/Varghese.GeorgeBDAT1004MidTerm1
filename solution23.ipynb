{
 "cells": [
  {
   "cell_type": "markdown",
   "id": "df9fe4fb-3f5d-476b-8ac7-13ef37b1360e",
   "metadata": {},
   "source": [
    "In a jupyter notebook solve the following question using python. Please upload the notebook to GitHub and provide the link submission box below.\n",
    "\n",
    "\n",
    "\n",
    "Develop a recursive function tough() that takes two nonnegative integer arguments and outputs a pattern as shown below. Hint: The first argument represents the indentation of the pattern, where the second argument -- always a pattern of 2 indicates the number *s in the longest line of *s in the pattern"
   ]
  },
  {
   "cell_type": "code",
   "execution_count": 1,
   "id": "505bae67-8f1c-4aac-bf6e-385b64061c16",
   "metadata": {},
   "outputs": [
    {
     "name": "stdout",
     "output_type": "stream",
     "text": [
      ">>> f(0, 0)\n",
      "\n",
      ">>> f(0, 1)\n",
      "*\n",
      "\n",
      ">>> f(0, 2)\n",
      "*\n",
      "**\n",
      " *\n",
      "\n",
      ">>> f(0, 4)\n",
      "*\n",
      "**\n",
      " *\n",
      "****\n",
      "  *\n",
      "  **\n",
      "   *\n"
     ]
    }
   ],
   "source": [
    "def f(indent, num):\n",
    "    # If num is greater than 0, proceed to print pattern\n",
    "    if num > 0:\n",
    "        # Recursively print the top half of the pattern\n",
    "        f(indent, num // 2)\n",
    "        # Print the current line with indentation and stars\n",
    "        print(\" \" * indent + \"*\" * num)\n",
    "        # Recursively print the bottom half with increased indentation\n",
    "        f(indent + num // 2, num // 2)\n",
    "\n",
    "\n",
    "# Testing the function with different inputs\n",
    "print(\">>> f(0, 0)\")\n",
    "f(0, 0)\n",
    "\n",
    "print(\"\\n>>> f(0, 1)\")\n",
    "f(0, 1)\n",
    "\n",
    "print(\"\\n>>> f(0, 2)\")\n",
    "f(0, 2)\n",
    "\n",
    "print(\"\\n>>> f(0, 4)\")\n",
    "f(0, 4)\n"
   ]
  },
  {
   "cell_type": "code",
   "execution_count": null,
   "id": "6d936d43-652f-4dd3-9ab8-7975c71a255b",
   "metadata": {},
   "outputs": [],
   "source": []
  }
 ],
 "metadata": {
  "kernelspec": {
   "display_name": "Python 3 (ipykernel)",
   "language": "python",
   "name": "python3"
  },
  "language_info": {
   "codemirror_mode": {
    "name": "ipython",
    "version": 3
   },
   "file_extension": ".py",
   "mimetype": "text/x-python",
   "name": "python",
   "nbconvert_exporter": "python",
   "pygments_lexer": "ipython3",
   "version": "3.12.4"
  }
 },
 "nbformat": 4,
 "nbformat_minor": 5
}
