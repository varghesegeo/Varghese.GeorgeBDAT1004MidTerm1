{
 "cells": [
  {
   "cell_type": "markdown",
   "id": "f48017e7-a084-4beb-aff1-2b34e736dd02",
   "metadata": {},
   "source": [
    "In a jupyter notebook solve the following question using python. Please upload the notebook to GitHub and provide the link submission box below.\r\n",
    "\r\n",
    "\r\n",
    "\r\n",
    "Develop a recursive function tough() that takes two nonnegative integer arguments and outputs a pattern as shown below. Hint: The first argument represents the indentation of the pattern, where the second argument -- always a pattern of 2 indicates the number *s in the longest line of *s in the pattern"
   ]
  },
  {
   "cell_type": "code",
   "execution_count": null,
   "id": "4a3b4fae-fc18-43b9-b382-9405443b75d4",
   "metadata": {},
   "outputs": [],
   "source": [
    "# Recursive function to print pattern as in the uploaded photo\n",
    "def pattern(indent, n):\n",
    "    # Base case: if n is 0, stop recursion\n",
    "    if n == 0:\n",
    "        return\n",
    "    \n",
    "    # Print the top part with increasing asterisks\n",
    "    print(' ' * indent + '*' * n)\n",
    "    \n",
    "    # Recursive call to print the middle part with one more asterisk\n",
    "    pattern(indent, n - 1)\n",
    "    \n",
    "    # Print the bottom part after recursion completes\n",
    "    if n > 1:\n",
    "        print(' ' * indent + '*' * (n - 1))\n",
    "\n",
    "# Test cases matching the format you provided\n",
    "print(\"Pattern for f(0,0):\")\n",
    "pattern(0, 0)  # No output for n=0\n",
    "\n",
    "print(\"\\nPattern for f(0,1):\")\n",
    "pattern(0, 1)  # *\n",
    "\n",
    "print(\"\\nPattern for f(0,2):\")\n",
    "pattern(0, 2)  # *\n",
    "               # **\n",
    "               # *\n",
    "\n",
    "print(\"\\nPattern for f(0,4):\")\n",
    "pattern(0, 4)  # *\n",
    "               # **\n",
    "               # *\n",
    "               # ***\n",
    "               # **\n",
    "               # ****\n",
    "               # ***\n"
   ]
  }
 ],
 "metadata": {
  "kernelspec": {
   "display_name": "Python 3 (ipykernel)",
   "language": "python",
   "name": "python3"
  },
  "language_info": {
   "codemirror_mode": {
    "name": "ipython",
    "version": 3
   },
   "file_extension": ".py",
   "mimetype": "text/x-python",
   "name": "python",
   "nbconvert_exporter": "python",
   "pygments_lexer": "ipython3",
   "version": "3.12.4"
  }
 },
 "nbformat": 4,
 "nbformat_minor": 5
}
